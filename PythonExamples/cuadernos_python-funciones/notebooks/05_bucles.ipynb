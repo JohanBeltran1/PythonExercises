{
 "cells": [
  {
   "cell_type": "markdown",
   "id": "2904a8a4",
   "metadata": {},
   "source": [
    "# 05 - Bucles\n",
    "\n",
    "> Colección de cuadernos didácticos de Python (VS Code)."
   ]
  },
  {
   "cell_type": "markdown",
   "id": "cd7cdb1d",
   "metadata": {},
   "source": [
    "## `for` e iterables\n",
    "`for` itera sobre cualquier objeto **iterable** (que produce un iterador)."
   ]
  },
  {
   "cell_type": "code",
   "execution_count": null,
   "id": "a340e674",
   "metadata": {},
   "outputs": [],
   "source": [
    "nombres = [\"Ada\", \"Guido\", \"Linus\"]\n",
    "for nombre in nombres:\n",
    "    print(f\"Hola, {nombre}\")\n"
   ]
  },
  {
   "cell_type": "markdown",
   "id": "277879b7",
   "metadata": {},
   "source": [
    "## `while`, `break`, `continue`, `else` en bucles"
   ]
  },
  {
   "cell_type": "code",
   "execution_count": null,
   "id": "4bd5f619",
   "metadata": {},
   "outputs": [],
   "source": [
    "conteo = 0\n",
    "while conteo < 5:\n",
    "    conteo += 1\n",
    "    if conteo == 2:\n",
    "        continue\n",
    "    if conteo == 4:\n",
    "        break\n",
    "    print(\"Iteración:\", conteo)\n",
    "else:\n",
    "    print(\"Esto se ejecuta si el bucle no se interrumpe con break\")\n"
   ]
  },
  {
   "cell_type": "markdown",
   "id": "3ea9f5c5",
   "metadata": {},
   "source": [
    "## `enumerate`, `range`, `zip`\n",
    "Herramientas útiles para índices, secuencias y combinación paralela."
   ]
  },
  {
   "cell_type": "code",
   "execution_count": null,
   "id": "a3e50175",
   "metadata": {},
   "outputs": [],
   "source": [
    "programas = [\"POO\", \"BD\", \"IA\"]\n",
    "creditos = [3, 4, 3]\n",
    "for indice, (programa, credito) in enumerate(zip(programas, creditos), start=1):\n",
    "    print(indice, programa, credito)\n"
   ]
  },
  {
   "cell_type": "markdown",
   "id": "ddc6e776",
   "metadata": {},
   "source": [
    "## Comprensiones de listas, diccionarios y conjuntos"
   ]
  },
  {
   "cell_type": "code",
   "execution_count": null,
   "id": "cfe858f3",
   "metadata": {},
   "outputs": [],
   "source": [
    "cuadrados = [numero**2 for numero in range(6)]\n",
    "impares = {numero for numero in range(10) if numero % 2}\n",
    "longitudes = {palabra: len(palabra) for palabra in [\"datos\", \"informacion\", \"conocimiento\"]}\n",
    "print(cuadrados, impares, longitudes)\n"
   ]
  },
  {
   "cell_type": "markdown",
   "id": "27b0d51e",
   "metadata": {},
   "source": [
    "## Iteradores y generadores (`yield`)"
   ]
  },
  {
   "cell_type": "code",
   "execution_count": null,
   "id": "bddc7759",
   "metadata": {},
   "outputs": [],
   "source": [
    "def generador_fibonacci(limite: int):\n",
    "    anterior, actual = 0, 1\n",
    "    while actual <= limite:\n",
    "        yield actual\n",
    "        anterior, actual = actual, anterior + actual\n",
    "\n",
    "print(list(generador_fibonacci(50)))\n"
   ]
  },
  {
   "cell_type": "markdown",
   "id": "3d4d2b24",
   "metadata": {},
   "source": [
    "## Ejercicios\n",
    "1. Construye una lista de números primos hasta `n` con comprensión y una función auxiliar `es_primo`.\n",
    "2. Implementa un generador que produzca líneas de un archivo muy grande bajo demanda."
   ]
  },
  {
   "cell_type": "code",
   "execution_count": null,
   "id": "47724043",
   "metadata": {},
   "outputs": [
    {
     "name": "stdout",
     "output_type": "stream",
     "text": [
      "[2, 3, 5, 7, 11, 13, 17, 19]\n"
     ]
    },
    {
     "ename": "FileNotFoundError",
     "evalue": "[Errno 2] No such file or directory: 'archivo.txt'",
     "output_type": "error",
     "traceback": [
      "\u001b[31m---------------------------------------------------------------------------\u001b[39m",
      "\u001b[31mFileNotFoundError\u001b[39m                         Traceback (most recent call last)",
      "\u001b[36mCell\u001b[39m\u001b[36m \u001b[39m\u001b[32mIn[6]\u001b[39m\u001b[32m, line 19\u001b[39m\n\u001b[32m     17\u001b[39m         \u001b[38;5;28;01mfor\u001b[39;00m linea \u001b[38;5;129;01min\u001b[39;00m f:\n\u001b[32m     18\u001b[39m             \u001b[38;5;28;01myield\u001b[39;00m linea.strip()\n\u001b[32m---> \u001b[39m\u001b[32m19\u001b[39m \u001b[38;5;28;43;01mfor\u001b[39;49;00m\u001b[43m \u001b[49m\u001b[43mlinea\u001b[49m\u001b[43m \u001b[49m\u001b[38;5;129;43;01min\u001b[39;49;00m\u001b[43m \u001b[49m\u001b[43mleer_lineas\u001b[49m\u001b[43m(\u001b[49m\u001b[33;43m'\u001b[39;49m\u001b[33;43marchivo.txt\u001b[39;49m\u001b[33;43m'\u001b[39;49m\u001b[43m)\u001b[49m\u001b[43m:\u001b[49m\n\u001b[32m     20\u001b[39m \u001b[43m    \u001b[49m\u001b[38;5;28;43mprint\u001b[39;49m\u001b[43m(\u001b[49m\u001b[43mlinea\u001b[49m\u001b[43m)\u001b[49m\n",
      "\u001b[36mCell\u001b[39m\u001b[36m \u001b[39m\u001b[32mIn[6]\u001b[39m\u001b[32m, line 16\u001b[39m, in \u001b[36mleer_lineas\u001b[39m\u001b[34m(archivo)\u001b[39m\n\u001b[32m     15\u001b[39m \u001b[38;5;28;01mdef\u001b[39;00m\u001b[38;5;250m \u001b[39m\u001b[34mleer_lineas\u001b[39m(archivo):\n\u001b[32m---> \u001b[39m\u001b[32m16\u001b[39m     \u001b[38;5;28;01mwith\u001b[39;00m \u001b[38;5;28;43mopen\u001b[39;49m\u001b[43m(\u001b[49m\u001b[43marchivo\u001b[49m\u001b[43m,\u001b[49m\u001b[43m \u001b[49m\u001b[33;43m'\u001b[39;49m\u001b[33;43mr\u001b[39;49m\u001b[33;43m'\u001b[39;49m\u001b[43m)\u001b[49m \u001b[38;5;28;01mas\u001b[39;00m f:\n\u001b[32m     17\u001b[39m         \u001b[38;5;28;01mfor\u001b[39;00m linea \u001b[38;5;129;01min\u001b[39;00m f:\n\u001b[32m     18\u001b[39m             \u001b[38;5;28;01myield\u001b[39;00m linea.strip()\n",
      "\u001b[36mFile \u001b[39m\u001b[32md:\\Universidad\\PythonExamples\\.venv\\Lib\\site-packages\\IPython\\core\\interactiveshell.py:343\u001b[39m, in \u001b[36m_modified_open\u001b[39m\u001b[34m(file, *args, **kwargs)\u001b[39m\n\u001b[32m    336\u001b[39m \u001b[38;5;28;01mif\u001b[39;00m file \u001b[38;5;129;01min\u001b[39;00m {\u001b[32m0\u001b[39m, \u001b[32m1\u001b[39m, \u001b[32m2\u001b[39m}:\n\u001b[32m    337\u001b[39m     \u001b[38;5;28;01mraise\u001b[39;00m \u001b[38;5;167;01mValueError\u001b[39;00m(\n\u001b[32m    338\u001b[39m         \u001b[33mf\u001b[39m\u001b[33m\"\u001b[39m\u001b[33mIPython won\u001b[39m\u001b[33m'\u001b[39m\u001b[33mt let you open fd=\u001b[39m\u001b[38;5;132;01m{\u001b[39;00mfile\u001b[38;5;132;01m}\u001b[39;00m\u001b[33m by default \u001b[39m\u001b[33m\"\u001b[39m\n\u001b[32m    339\u001b[39m         \u001b[33m\"\u001b[39m\u001b[33mas it is likely to crash IPython. If you know what you are doing, \u001b[39m\u001b[33m\"\u001b[39m\n\u001b[32m    340\u001b[39m         \u001b[33m\"\u001b[39m\u001b[33myou can use builtins\u001b[39m\u001b[33m'\u001b[39m\u001b[33m open.\u001b[39m\u001b[33m\"\u001b[39m\n\u001b[32m    341\u001b[39m     )\n\u001b[32m--> \u001b[39m\u001b[32m343\u001b[39m \u001b[38;5;28;01mreturn\u001b[39;00m \u001b[43mio_open\u001b[49m\u001b[43m(\u001b[49m\u001b[43mfile\u001b[49m\u001b[43m,\u001b[49m\u001b[43m \u001b[49m\u001b[43m*\u001b[49m\u001b[43margs\u001b[49m\u001b[43m,\u001b[49m\u001b[43m \u001b[49m\u001b[43m*\u001b[49m\u001b[43m*\u001b[49m\u001b[43mkwargs\u001b[49m\u001b[43m)\u001b[49m\n",
      "\u001b[31mFileNotFoundError\u001b[39m: [Errno 2] No such file or directory: 'archivo.txt'"
     ]
    }
   ],
   "source": [
    "#ejercicio 1\n",
    "def es_primo (num):\n",
    "    if num < 2:\n",
    "        return False\n",
    "    for i in range(2, int(num**0.5) + 1):\n",
    "        if num % i == 0:\n",
    "            return False\n",
    "    return True\n",
    "\n",
    "n = 20\n",
    "primos = [num for num in range(n) if es_primo(num)]\n",
    "print(primos)\n",
    "\n",
    "#ejercicio 2\n",
    "def leer_lineas(archivo):\n",
    "    with open(archivo, 'r') as f:\n",
    "        for linea in f:\n",
    "            yield linea.strip()"
   ]
  },
  {
   "cell_type": "code",
   "execution_count": null,
   "id": "f4a585dd",
   "metadata": {},
   "outputs": [],
   "source": [
    "# Punto de partida para el ejercicio 1\n",
    "def es_primo(numero: int) -> bool:\n",
    "    if numero < 2:\n",
    "        return False\n",
    "    for divisor in range(2, int(numero**0.5) + 1):\n",
    "        if numero % divisor == 0:\n",
    "            return False\n",
    "    return True\n",
    "\n",
    "primos_hasta_50 = [n for n in range(2, 51) if es_primo(n)]\n",
    "print(primos_hasta_50)\n"
   ]
  }
 ],
 "metadata": {
  "kernelspec": {
   "display_name": ".venv",
   "language": "python",
   "name": "python3"
  },
  "language_info": {
   "codemirror_mode": {
    "name": "ipython",
    "version": 3
   },
   "file_extension": ".py",
   "mimetype": "text/x-python",
   "name": "python",
   "nbconvert_exporter": "python",
   "pygments_lexer": "ipython3",
   "version": "3.13.7"
  }
 },
 "nbformat": 4,
 "nbformat_minor": 5
}
