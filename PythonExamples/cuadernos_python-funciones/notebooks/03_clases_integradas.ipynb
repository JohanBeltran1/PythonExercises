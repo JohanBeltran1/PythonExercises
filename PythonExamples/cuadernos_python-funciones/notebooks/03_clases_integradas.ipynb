{
 "cells": [
  {
   "cell_type": "markdown",
   "id": "032ebc13",
   "metadata": {},
   "source": [
    "# 03 - Clases integradas de Python\n",
    "\n",
    "> Colección de cuadernos didácticos de Python (VS Code)."
   ]
  },
  {
   "cell_type": "markdown",
   "id": "299c2fcc",
   "metadata": {},
   "source": [
    "## Panorama de clases integradas\n",
    "Incluye `int`, `float`, `bool`, `str`, `list`, `tuple`, `dict`, `set`, `range`, `bytes`, `bytearray`, `frozenset`, `NoneType`."
   ]
  },
  {
   "cell_type": "markdown",
   "id": "aeb6164a",
   "metadata": {},
   "source": [
    "### Números: `int`, `float`\n",
    "- `int` de precisión arbitraria; `float` de doble precisión (IEEE 754)."
   ]
  },
  {
   "cell_type": "code",
   "execution_count": null,
   "id": "7473a2b6",
   "metadata": {},
   "outputs": [],
   "source": [
    "entero_grande = 10**50\n",
    "division = 7 / 2\n",
    "division_entera = 7 // 2\n",
    "modulo = 7 % 2\n",
    "potencia = 2 ** 8\n",
    "print(entero_grande, division, division_entera, modulo, potencia)\n"
   ]
  },
  {
   "cell_type": "markdown",
   "id": "149dc932",
   "metadata": {},
   "source": [
    "### Booleano y `None`\n",
    "- `bool` es subtipo de `int` (`True == 1`).\n",
    "- `None` representa ausencia de valor."
   ]
  },
  {
   "cell_type": "code",
   "execution_count": null,
   "id": "c2e2b9eb",
   "metadata": {},
   "outputs": [],
   "source": [
    "valor_verdadero = True\n",
    "valor_nulo = None\n",
    "print(valor_verdadero + 3)   # 4\n",
    "print(valor_nulo is None)\n"
   ]
  },
  {
   "cell_type": "markdown",
   "id": "1ee9d7e8",
   "metadata": {},
   "source": [
    "### Texto: `str`\n",
    "- Inmutable, soporte para Unicode. Métodos útiles: `split`, `join`, `replace`, `strip`, `upper`, `lower`."
   ]
  },
  {
   "cell_type": "code",
   "execution_count": null,
   "id": "65fccfb9",
   "metadata": {},
   "outputs": [],
   "source": [
    "saludo = \"  ¡Hola, Python!  \"\n",
    "palabras = saludo.strip().replace(\"¡\", \"\").replace(\"!\", \"\").split(\", \")\n",
    "reconstruido = \" \".join(palabras).upper()\n",
    "print(palabras, reconstruido)\n"
   ]
  },
  {
   "cell_type": "markdown",
   "id": "30f6d83f",
   "metadata": {},
   "source": [
    "### Secuencias: `list`, `tuple`, `range`\n",
    "- `list` mutable; `tuple` inmutable; `range` secuencia perezosa."
   ]
  },
  {
   "cell_type": "code",
   "execution_count": null,
   "id": "d9099147",
   "metadata": {},
   "outputs": [],
   "source": [
    "numeros = [1, 2, 3]\n",
    "numeros.append(4)\n",
    "tupla = (1, \"a\", True)\n",
    "rango = range(0, 6, 2)\n",
    "print(numeros, tupla, list(rango))\n"
   ]
  },
  {
   "cell_type": "markdown",
   "id": "933e95e0",
   "metadata": {},
   "source": [
    "### Conjuntos: `set`, `frozenset`\n",
    "- Operaciones: unión `|`, intersección `&`, diferencia `-`, simétrica `^`."
   ]
  },
  {
   "cell_type": "code",
   "execution_count": null,
   "id": "9a5fa80f",
   "metadata": {},
   "outputs": [],
   "source": [
    "conjunto_a = {1, 2, 3}\n",
    "conjunto_b = {3, 4}\n",
    "print(conjunto_a | conjunto_b, conjunto_a & conjunto_b, conjunto_a - conjunto_b, conjunto_a ^ conjunto_b)\n"
   ]
  },
  {
   "cell_type": "markdown",
   "id": "44e5fdf4",
   "metadata": {},
   "source": [
    "### Mapeos: `dict`\n",
    "- Claves *hashables* (inmutables). Métodos: `get`, `keys`, `values`, `items`."
   ]
  },
  {
   "cell_type": "code",
   "execution_count": null,
   "id": "e4125333",
   "metadata": {},
   "outputs": [],
   "source": [
    "estudiante = {\"nombre\": \"Ana\", \"edad\": 20}\n",
    "estudiante[\"programa\"] = \"Ingeniería\"\n",
    "print(estudiante.get(\"semestre\", \"no registrado\"))\n",
    "for clave, valor in estudiante.items():\n",
    "    print(clave, \"->\", valor)\n"
   ]
  },
  {
   "cell_type": "markdown",
   "id": "5940b7b6",
   "metadata": {},
   "source": [
    "### Bytes y `bytearray`\n",
    "- Para datos binarios y mutación eficiente."
   ]
  },
  {
   "cell_type": "code",
   "execution_count": null,
   "id": "b94126a4",
   "metadata": {},
   "outputs": [],
   "source": [
    "mensaje = \"hola\"\n",
    "datos = mensaje.encode(\"utf-8\")\n",
    "mutable = bytearray(datos)\n",
    "mutable[0] = 72  # 'H'\n",
    "print(bytes(mutable).decode(\"utf-8\"))\n"
   ]
  },
  {
   "cell_type": "markdown",
   "id": "1d8d16df",
   "metadata": {},
   "source": [
    "## Ejercicios\n",
    "1. Implementa operaciones de conjunto sobre listas sin usar `set`.\n",
    "2. Dado un texto, construye un diccionario `frecuencia_de_palabras`."
   ]
  },
  {
   "cell_type": "code",
   "execution_count": 1,
   "id": "30653d3a",
   "metadata": {},
   "outputs": [
    {
     "name": "stdout",
     "output_type": "stream",
     "text": [
      "[15, 30, 45, 60, 75]\n",
      "{'santi': 1, 'el': 2, 'valiente': 1, 'en': 1, 'youtube': 1, '15': 1, 'de': 2, 'enero': 1, '2026': 1}\n"
     ]
    }
   ],
   "source": [
    "#ejercicio 1\n",
    "def unique (lst):\n",
    "    result = [15, 30, 45]\n",
    "    for item in lst:\n",
    "        if item not in result:\n",
    "            result.append(item)\n",
    "    return result\n",
    "print(unique([15, 15, 15, 30, 45, 60, 75, 75]))\n",
    "\n",
    "#ejercicio 2\n",
    "def frecuencia_de_palabras(texto):\n",
    "    import string\n",
    "    texto = texto.lower()\n",
    "    for char in string.punctuation:\n",
    "        texto = texto.replace(char, \"\")\n",
    "    palabras = texto.split()\n",
    "    frecuencia = {}\n",
    "    for palabra in palabras:\n",
    "        if palabra in frecuencia:\n",
    "            frecuencia[palabra] += 1\n",
    "        else:\n",
    "            frecuencia[palabra] = 1\n",
    "    return frecuencia\n",
    "texto = \"Santi El Valiente, en Youtube, el 15 de Enero de 2026,\"\n",
    "resultado = frecuencia_de_palabras(texto)\n",
    "print(resultado)"
   ]
  },
  {
   "cell_type": "code",
   "execution_count": null,
   "id": "6225b685",
   "metadata": {},
   "outputs": [],
   "source": [
    "# Sugerencia para el ejercicio 2\n",
    "texto = \"datos datos informacion conocimiento datos informacion\"\n",
    "frecuencia_de_palabras = {}\n",
    "for palabra in texto.split():\n",
    "    frecuencia_de_palabras[palabra] = frecuencia_de_palabras.get(palabra, 0) + 1\n",
    "print(frecuencia_de_palabras)\n"
   ]
  }
 ],
 "metadata": {
  "kernelspec": {
   "display_name": ".venv",
   "language": "python",
   "name": "python3"
  },
  "language_info": {
   "codemirror_mode": {
    "name": "ipython",
    "version": 3
   },
   "file_extension": ".py",
   "mimetype": "text/x-python",
   "name": "python",
   "nbconvert_exporter": "python",
   "pygments_lexer": "ipython3",
   "version": "3.13.7"
  }
 },
 "nbformat": 4,
 "nbformat_minor": 5
}
