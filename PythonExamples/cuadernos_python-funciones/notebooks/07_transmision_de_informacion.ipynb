{
 "cells": [
  {
   "cell_type": "markdown",
   "id": "d6bc52d9",
   "metadata": {},
   "source": [
    "# 07 - Transmisión de información (I/O)\n",
    "\n",
    "> Colección de cuadernos didácticos de Python (VS Code)."
   ]
  },
  {
   "cell_type": "markdown",
   "id": "71876ea2",
   "metadata": {},
   "source": [
    "## `print` y formato de cadenas\n",
    "- f-strings (Python 3.6+), `str.format`, `%` (antiguo)."
   ]
  },
  {
   "cell_type": "code",
   "execution_count": null,
   "id": "b53fb9ba",
   "metadata": {},
   "outputs": [],
   "source": [
    "nombre = \"Alonso\"\n",
    "creditos = 4\n",
    "print(f\"Estudiante: {nombre} — Créditos: {creditos}\")\n",
    "print(\"Estudiante: {} — Créditos: {}\".format(nombre, creditos))\n"
   ]
  },
  {
   "cell_type": "markdown",
   "id": "87f812e2",
   "metadata": {},
   "source": [
    "## `input` y validación básica"
   ]
  },
  {
   "cell_type": "code",
   "execution_count": null,
   "id": "45a859c1",
   "metadata": {},
   "outputs": [],
   "source": [
    "# Descomenta para probar en modo interactivo\n",
    "# texto = input(\"Escribe un número entero: \")\n",
    "# try:\n",
    "#     numero = int(texto)\n",
    "#     print(\"Doble:\", numero * 2)\n",
    "# except ValueError:\n",
    "#     print(\"Entrada inválida\")\n"
   ]
  },
  {
   "cell_type": "markdown",
   "id": "1bc1f1d6",
   "metadata": {},
   "source": [
    "## Archivos: leer y escribir con contexto"
   ]
  },
  {
   "cell_type": "code",
   "execution_count": null,
   "id": "5e501894",
   "metadata": {},
   "outputs": [],
   "source": [
    "from pathlib import Path\n",
    "\n",
    "ruta = Path(\"datos.txt\")\n",
    "with ruta.open(\"w\", encoding=\"utf-8\") as archivo:\n",
    "    archivo.write(\"linea uno\\nlinea dos\\n\")\n",
    "\n",
    "with ruta.open(\"r\", encoding=\"utf-8\") as archivo:\n",
    "    contenido = archivo.read()\n",
    "\n",
    "print(contenido)\n"
   ]
  },
  {
   "cell_type": "markdown",
   "id": "20d86b5a",
   "metadata": {},
   "source": [
    "## CSV y JSON (serialización de datos)"
   ]
  },
  {
   "cell_type": "code",
   "execution_count": null,
   "id": "9b9e3a58",
   "metadata": {},
   "outputs": [],
   "source": [
    "import csv\n",
    "import json\n",
    "from pathlib import Path\n",
    "\n",
    "registros = [\n",
    "    {\"nombre\": \"Ana\", \"edad\": 20},\n",
    "    {\"nombre\": \"Luis\", \"edad\": 22},\n",
    "]\n",
    "\n",
    "ruta_csv = Path(\"estudiantes.csv\")\n",
    "with ruta_csv.open(\"w\", encoding=\"utf-8\", newline=\"\") as archivo:\n",
    "    escritor = csv.DictWriter(archivo, fieldnames=[\"nombre\", \"edad\"])\n",
    "    escritor.writeheader()\n",
    "    escritor.writerows(registros)\n",
    "\n",
    "ruta_json = Path(\"estudiantes.json\")\n",
    "with ruta_json.open(\"w\", encoding=\"utf-8\") as archivo:\n",
    "    json.dump(registros, archivo, ensure_ascii=False, indent=2)\n",
    "\n",
    "print(\"Archivos CSV y JSON escritos\")\n"
   ]
  },
  {
   "cell_type": "markdown",
   "id": "0716807f",
   "metadata": {},
   "source": [
    "## Argumentos de línea de comandos: `sys.argv` y `argparse` (breve)"
   ]
  },
  {
   "cell_type": "code",
   "execution_count": null,
   "id": "427302b3",
   "metadata": {},
   "outputs": [],
   "source": [
    "# Ejemplo mínimo con argparse\n",
    "import argparse\n",
    "\n",
    "def crear_argumentos():\n",
    "    parser = argparse.ArgumentParser(description=\"Ejemplo sencillo de CLI\")\n",
    "    parser.add_argument(\"--nombre\", default=\"Mundo\")\n",
    "    return parser\n",
    "\n",
    "# En un script real:\n",
    "# parser = crear_argumentos()\n",
    "# args = parser.parse_args()\n",
    "# print(f\"Hola, {args.nombre}\")\n"
   ]
  },
  {
   "cell_type": "markdown",
   "id": "056bf7b5",
   "metadata": {},
   "source": [
    "## Registro de eventos (`logging`)"
   ]
  },
  {
   "cell_type": "code",
   "execution_count": null,
   "id": "f3139376",
   "metadata": {},
   "outputs": [],
   "source": [
    "import logging\n",
    "\n",
    "logging.basicConfig(level=logging.INFO, format=\"%(levelname)s:%(message)s\")\n",
    "logger = logging.getLogger(\"aplicacion\")\n",
    "\n",
    "logger.info(\"Aplicación iniciada\")\n",
    "logger.warning(\"Este es un aviso\")\n",
    "logger.error(\"Este es un error simulado\")\n"
   ]
  },
  {
   "cell_type": "markdown",
   "id": "1376dccf",
   "metadata": {},
   "source": [
    "## Ejercicios\n",
    "1. Escribe un script que lea `estudiantes.csv` y calcule el promedio de edad.\n",
    "2. Crea una CLI que convierta un archivo JSON a CSV con opciones `--entrada` y `--salida`. "
   ]
  },
  {
   "cell_type": "code",
   "execution_count": null,
   "id": "965ea423",
   "metadata": {},
   "outputs": [
    {
     "name": "stdout",
     "output_type": "stream",
     "text": [
      "Error: El archivo 'estudiantes.csv' no se encontró.\n"
     ]
    },
    {
     "name": "stderr",
     "output_type": "stream",
     "text": [
      "usage: ipykernel_launcher.py [-h] --entrada ENTRADA --salida SALIDA\n",
      "ipykernel_launcher.py: error: the following arguments are required: --entrada, --salida\n"
     ]
    },
    {
     "ename": "SystemExit",
     "evalue": "2",
     "output_type": "error",
     "traceback": [
      "An exception has occurred, use %tb to see the full traceback.\n",
      "\u001b[31mSystemExit\u001b[39m\u001b[31m:\u001b[39m 2\n"
     ]
    }
   ],
   "source": [
    "#ejercicio 1\n",
    "\n",
    "import csv\n",
    "from statistics import mean\n",
    "\n",
    "edades = []\n",
    "\n",
    "try:\n",
    "    with open(\"estudiantes.csv\", newline=\"\", encoding=\"uft-8\") as archivo:\n",
    "        lector = csv.DictReader(archivo)\n",
    "        for fila in lector:\n",
    "            try:\n",
    "                edades.append(int(fila[\"edad\"]))\n",
    "            except (ValueError, KeyError):\n",
    "                print(f\"Advertencia: Edad inválida o faltante en fila: {fila}\")\n",
    "    \n",
    "    if edades:\n",
    "        print(f\"Edad promedio: {mean(edades)}\")\n",
    "    else:\n",
    "        print(\"No se encontraron edades válidas.\")\n",
    "\n",
    "except FileNotFoundError:\n",
    "    print(\"Error: El archivo 'estudiantes.csv' no se encontró.\")\n",
    "\n",
    "#ejercicio 2\n",
    "import argparse\n",
    "import json\n",
    "import csv\n",
    "import sys\n",
    "\n",
    "def json_a_csv(archivo_json, archivo_csv):\n",
    "    try:\n",
    "        with open(archivo_json, \"r\", encoding=\"utf-8\") as f_json:\n",
    "            datos = json.load(f_json)\n",
    "\n",
    "        if not isinstance(datos, list):\n",
    "            print(\"Error: El archivo JSON debe contener una lista de objetos.\")\n",
    "            sys.exit(1)\n",
    "\n",
    "        if len(datos) == 0:\n",
    "            print(\"Advertencia: El archivo JSON está vacío. No se creó el CSV.\")\n",
    "            sys.exit(0)\n",
    "\n",
    "        # Obtener encabezados del primer objeto\n",
    "        campos = list(datos[0].keys())\n",
    "\n",
    "        with open(archivo_csv, \"w\", newline=\"\", encoding=\"utf-8\") as f_csv:\n",
    "            escritor = csv.DictWriter(f_csv, fieldnames=campos)\n",
    "            escritor.writeheader()\n",
    "            escritor.writerows(datos)\n",
    "\n",
    "        print(f\"✅ Conversión completa. Archivo CSV guardado como: {archivo_csv}\")\n",
    "\n",
    "    except FileNotFoundError:\n",
    "        print(f\"Error: No se encontró el archivo '{archivo_json}'.\")\n",
    "    except json.JSONDecodeError:\n",
    "        print(\"Error: El archivo no es un JSON válido.\")\n",
    "    except Exception as e:\n",
    "        print(f\"Error inesperado: {e}\")\n",
    "\n",
    "def main():\n",
    "    parser = argparse.ArgumentParser(description=\"Convierte un archivo JSON a CSV.\")\n",
    "    parser.add_argument(\"--entrada\", required=True, help=\"Ruta del archivo JSON de entrada\")\n",
    "    parser.add_argument(\"--salida\", required=True, help=\"Ruta del archivo CSV de salida\")\n",
    "\n",
    "    args = parser.parse_args()\n",
    "\n",
    "    json_a_csv(args.entrada, args.salida)\n",
    "\n",
    "if __name__ == \"__main__\":\n",
    "    main()\n",
    "\n"
   ]
  },
  {
   "cell_type": "code",
   "execution_count": null,
   "id": "29c28ae1",
   "metadata": {},
   "outputs": [],
   "source": [
    "# Punto de partida para el ejercicio 1\n",
    "import csv\n",
    "from statistics import mean\n",
    "\n",
    "with open(\"estudiantes.csv\", newline=\"\", encoding=\"utf-8\") as archivo:\n",
    "    lector = csv.DictReader(archivo)\n",
    "    edades = [int(fila[\"edad\"]) for fila in lector]\n",
    "print(\"Promedio de edad:\", mean(edades))\n"
   ]
  }
 ],
 "metadata": {
  "kernelspec": {
   "display_name": ".venv",
   "language": "python",
   "name": "python3"
  },
  "language_info": {
   "codemirror_mode": {
    "name": "ipython",
    "version": 3
   },
   "file_extension": ".py",
   "mimetype": "text/x-python",
   "name": "python",
   "nbconvert_exporter": "python",
   "pygments_lexer": "ipython3",
   "version": "3.13.7"
  }
 },
 "nbformat": 4,
 "nbformat_minor": 5
}
