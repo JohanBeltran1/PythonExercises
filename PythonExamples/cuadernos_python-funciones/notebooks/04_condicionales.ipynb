{
 "cells": [
  {
   "cell_type": "markdown",
   "id": "3b600862",
   "metadata": {},
   "source": [
    "# 04 - Condicionales\n",
    "\n",
    "> Colección de cuadernos didácticos de Python (VS Code)."
   ]
  },
  {
   "cell_type": "markdown",
   "id": "c9443476",
   "metadata": {},
   "source": [
    "## Veracidad (*truthiness*) y falsedad\n",
    "Valores considerados falsos: `0`, `0.0`, `''`, `[]`, `{}`, `set()`, `None`, `False`."
   ]
  },
  {
   "cell_type": "code",
   "execution_count": null,
   "id": "6a631725",
   "metadata": {},
   "outputs": [],
   "source": [
    "valores = [0, 1, \"\", \"texto\", [], [1], {}, {\"a\": 1}, None, False, True]\n",
    "resultados = [bool(valor) for valor in valores]\n",
    "print(list(zip(valores, resultados)))\n"
   ]
  },
  {
   "cell_type": "markdown",
   "id": "5fb62360",
   "metadata": {},
   "source": [
    "## `if`, `elif`, `else` y encadenamiento de comparaciones"
   ]
  },
  {
   "cell_type": "code",
   "execution_count": null,
   "id": "a9c2bd90",
   "metadata": {},
   "outputs": [],
   "source": [
    "edad = 19\n",
    "if 18 <= edad < 25:\n",
    "    situacion = \"Joven adulto\"\n",
    "elif edad < 18:\n",
    "    situacion = \"Menor de edad\"\n",
    "else:\n",
    "    situacion = \"Adulto\"\n",
    "print(situacion)\n"
   ]
  },
  {
   "cell_type": "markdown",
   "id": "2f1be241",
   "metadata": {},
   "source": [
    "## Operador condicional (ternario)"
   ]
  },
  {
   "cell_type": "code",
   "execution_count": null,
   "id": "245de22b",
   "metadata": {},
   "outputs": [],
   "source": [
    "numero = -5\n",
    "paridad = \"par\" if numero % 2 == 0 else \"impar\"\n",
    "print(paridad)\n"
   ]
  },
  {
   "cell_type": "markdown",
   "id": "0ea0c2e6",
   "metadata": {},
   "source": [
    "## Operadores: `==`, `!=`, `<`, `>`, `<=`, `>=`, `is`, `in`\n",
    "- `is` compara identidad; `in` pertenencia."
   ]
  },
  {
   "cell_type": "code",
   "execution_count": null,
   "id": "1f0e9b6c",
   "metadata": {},
   "outputs": [],
   "source": [
    "valor = None\n",
    "print(valor is None)\n",
    "print(\"py\" in \"python\")\n"
   ]
  },
  {
   "cell_type": "markdown",
   "id": "d4d47a7b",
   "metadata": {},
   "source": [
    "## `match`/`case` (Python 3.10+): *pattern matching* estructural"
   ]
  },
  {
   "cell_type": "code",
   "execution_count": null,
   "id": "b54737c3",
   "metadata": {},
   "outputs": [],
   "source": [
    "def clasificar_calificacion(calificacion: int) -> str:\n",
    "    match calificacion:\n",
    "        case 0 | 1 | 2:\n",
    "            return \"Insuficiente\"\n",
    "        case 3:\n",
    "            return \"Aceptable\"\n",
    "        case 4:\n",
    "            return \"Sobresaliente\"\n",
    "        case 5:\n",
    "            return \"Excelente\"\n",
    "        case _:\n",
    "            return \"Valor fuera de rango\"\n",
    "\n",
    "print([clasificar_calificacion(c) for c in range(0, 7)])\n"
   ]
  },
  {
   "cell_type": "markdown",
   "id": "c36952e1",
   "metadata": {},
   "source": [
    "Operador Ternario"
   ]
  },
  {
   "cell_type": "code",
   "execution_count": 3,
   "id": "739710b7",
   "metadata": {},
   "outputs": [
    {
     "name": "stdout",
     "output_type": "stream",
     "text": [
      "No es 5\n"
     ]
    }
   ],
   "source": [
    "x = 6\n",
    "print(\"Es 5\" if x == 5 else \"No es 5\")\n",
    "#Es 5"
   ]
  },
  {
   "cell_type": "markdown",
   "id": "cb45ed0b",
   "metadata": {},
   "source": [
    "## Ejercicios\n",
    "1. Escribe una función `clasificar_bmi(peso, altura)` que devuelva categorías OMS usando `match`.\n",
    "2. Implementa un validador de contraseñas con múltiples condiciones (`len`, mayúsculas, dígitos, etc.)."
   ]
  },
  {
   "cell_type": "code",
   "execution_count": 7,
   "id": "bf77a311",
   "metadata": {},
   "outputs": [
    {
     "name": "stdout",
     "output_type": "stream",
     "text": [
      "Peso normal\n",
      "Sobrepeso\n",
      "Obesidad Grado II\n",
      "¿Es válida? True\n",
      "- Contraseña válida\n"
     ]
    }
   ],
   "source": [
    "#ejercicio 1\n",
    "def clasificar_bmi(peso, altura):\n",
    "    imc = peso / (altura ** 2)\n",
    "    match imc:\n",
    "        case _ if imc < 18.5:\n",
    "            return \"Bajo peso\"\n",
    "        case _ if 18.5 <= imc < 25:\n",
    "            return \"Peso normal\"\n",
    "        case _ if 25 <= imc < 30:\n",
    "            return \"Sobrepeso\"\n",
    "        case _ if 30 <= imc < 35:\n",
    "            return \"Obesidad Grado I\"\n",
    "        case _ if 35 <= imc < 40:\n",
    "            return \"Obesidad Grado II\"\n",
    "        case _ if imc >= 40:\n",
    "            return \"Obesidad Grado III\"\n",
    "        \n",
    "print(clasificar_bmi(70, 1.75))  # Peso normal\n",
    "print(clasificar_bmi(85, 1.75))  # Sobrepeso\n",
    "print(clasificar_bmi(120, 1.75)) # Obesidad Grado II\n",
    "\n",
    "#ejercicio 2\n",
    "import string\n",
    "\n",
    "def validar_contraseña(password):\n",
    "    errores = []\n",
    "    if len(password) < 8:\n",
    "        errores.append(\"La contraseña debe tener al menos 8 caracteres.\")\n",
    "    if not any(c.isupper() for c in password):\n",
    "        errores.append(\"La contraseña debe contener al menos una letra mayúscula.\")\n",
    "    if not any(c.islower() for c in password):\n",
    "        errores.append(\"La contraseña debe contener al menos una letra minúscula.\")\n",
    "    if not any(c.isdigit() for c in password):\n",
    "        errores.append(\"La contraseña debe contener al menos un dígito.\")\n",
    "    if not any(c in string.punctuation for c in password):\n",
    "        errores.append(\"La contraseña debe contener al menos un carácter especial.\")\n",
    "    \n",
    "    if errores:\n",
    "        return False, errores\n",
    "    else:\n",
    "        return True, [\"Contraseña válida\"]\n",
    "\n",
    "contraseña = \"Password1!\"\n",
    "valida, mensajes = validar_contraseña(contraseña)\n",
    "print(\"¿Es válida?\", valida)\n",
    "for mensaje in mensajes:\n",
    "    print(\"-\", mensaje)\n"
   ]
  },
  {
   "cell_type": "code",
   "execution_count": 1,
   "id": "3c39693a",
   "metadata": {},
   "outputs": [],
   "source": [
    "# Punto de partida para el ejercicio 2\n",
    "def es_contrasena_segura(texto: str) -> bool:\n",
    "    tiene_longitud = len(texto) >= 8\n",
    "    tiene_mayuscula = any(caracter.isupper() for caracter in texto)\n",
    "    tiene_digito = any(caracter.isdigit() for caracter in texto)\n",
    "    tiene_simbolo = any(not caracter.isalnum() for caracter in texto)\n",
    "    return tiene_longitud and tiene_mayuscula and tiene_digito and tiene_simbolo\n",
    "\n",
    "assert es_contrasena_segura(\"Clave$2025\") is True\n"
   ]
  }
 ],
 "metadata": {
  "kernelspec": {
   "display_name": ".venv",
   "language": "python",
   "name": "python3"
  },
  "language_info": {
   "codemirror_mode": {
    "name": "ipython",
    "version": 3
   },
   "file_extension": ".py",
   "mimetype": "text/x-python",
   "name": "python",
   "nbconvert_exporter": "python",
   "pygments_lexer": "ipython3",
   "version": "3.13.7"
  }
 },
 "nbformat": 4,
 "nbformat_minor": 5
}
