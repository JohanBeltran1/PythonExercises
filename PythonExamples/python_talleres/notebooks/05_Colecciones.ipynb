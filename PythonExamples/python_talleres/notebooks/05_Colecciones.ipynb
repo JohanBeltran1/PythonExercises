{
 "cells": [
  {
   "cell_type": "markdown",
   "metadata": {},
   "source": [
    "# 5) Colecciones: listas, tuplas y diccionarios\n",
    "\n",
    "## ¿Qué son?\n",
    "Estructuras para **agrupar datos**: secuencias (`list`, `tuple`) y mapeos (`dict`).\n",
    "\n",
    "## ¿Para qué se usan?\n",
    "Para **organizar, acceder y transformar** conjuntos de valores.\n",
    "\n",
    "## Puntos clave\n",
    "- `list` (mutable) — métodos como `append`, `pop`, `sort`.\n",
    "- `tuple` (inmutable) — útil para datos que no cambian.\n",
    "- `dict` (clave→valor) — acceso por clave y métodos `.items()`, `.keys()`.\n"
   ]
  },
  {
   "cell_type": "code",
   "execution_count": null,
   "metadata": {},
   "outputs": [],
   "source": [
    "comidas = [\"arepa\", \"ajiaco\", \"bandeja\"]\n",
    "comidas.append(\"sancocho\")\n",
    "print(\"Lista:\", comidas)\n",
    "\n",
    "punto = (10, 20)\n",
    "print(\"Tupla:\", punto[0], punto[1])\n",
    "\n",
    "persona = {\"nombre\": \"Ada\", \"edad\": 28, \"ciudad\": \"Bogotá\"}\n",
    "persona[\"edad\"] += 1\n",
    "for k, v in persona.items():\n",
    "    print(k, \"->\", v)\n"
   ]
  },
  {
   "cell_type": "markdown",
   "metadata": {},
   "source": [
    "### Ejercicios\n",
    "- E1: Lista de 5 números, calcula suma y promedio.\n",
    "- E2: Diccionario de 3 contactos (nombre→tel), consulta por nombre.\n",
    "- E3: Convierte lista de pares `(clave, valor)` en `dict` y recórrelo.\n",
    "\n",
    "### Reto extra\n",
    "**Inventario simple**: lista de dicts con `{\"producto\",\"precio\",\"stock\"}`. Muestra:\n",
    "- Total del inventario.\n",
    "- Producto más caro.\n"
   ]
  },
  {
   "cell_type": "code",
   "execution_count": null,
   "id": "f5ac8379",
   "metadata": {},
   "outputs": [],
   "source": [
    "#ejercicio 1\n",
    "numeros = [1, 2, 3, 4, 5]\n",
    "\n",
    "suma = sum(numeros)\n",
    "promedio = suma / len(numeros)\n",
    "\n",
    "print(f\"Números: {numeros}\")\n",
    "print(f\"Suma: {suma}\")\n",
    "print(f\"Promedio: {promedio}\")\n",
    "\n",
    "#ejercicio 2\n",
    "contactos = {\n",
    "    \"Etham\": \"555-5387\",\n",
    "    \"Liam\": \"555-1234\",\n",
    "    \"Olivia\": \"555-8765\",\n",
    "}\n",
    "\n",
    "nombre = input(\"Ingrese el nombre a buscar: \")\n",
    "\n",
    "if nombre in contactos:\n",
    "    print(f\"El número de {nombre} es {contactos[nombre]}\")\n",
    "else:\n",
    "    print(f\"No se encontró el contacto para {nombre}\")\n",
    "\n",
    "#ejercicio 3\n",
    "pares = [(\"Alice\", 30), (\"Bob\", 25), (\"Charlie\", 35)]\n",
    "personas = dict(pares)\n",
    "for nombre, edad in personas.items():\n",
    "    print(f\"{nombre} tiene {edad} años\")\n",
    "\n",
    "\n",
    "#extra\n",
    "# Lista de productos con nombre, precio y stock\n",
    "inventario = [\n",
    "    {\"producto\": \"Laptop\", \"precio\": 1200, \"stock\": 5},\n",
    "    {\"producto\": \"Mouse\", \"precio\": 25, \"stock\": 40},\n",
    "    {\"producto\": \"Monitor\", \"precio\": 300, \"stock\": 10}\n",
    "]\n",
    "\n",
    "# Calcular el total del inventario\n",
    "total = sum(item[\"precio\"] * item[\"stock\"] for item in inventario)\n",
    "\n",
    "# Encontrar el producto más caro\n",
    "producto_mas_caro = max(inventario, key=lambda x: x[\"precio\"])\n",
    "\n",
    "# Mostrar resultados\n",
    "print(f\"💰 Valor total del inventario: ${total}\")\n",
    "\n",
    "print(f\"🔝 Producto más caro: {producto_mas_caro['producto']} (${producto_mas_caro['precio']})\")\n",
    "\n"
   ]
  }
 ],
 "metadata": {
  "kernelspec": {
   "display_name": "Python 3",
   "language": "python",
   "name": "python3"
  },
  "language_info": {
   "name": "python",
   "version": "3.x"
  }
 },
 "nbformat": 4,
 "nbformat_minor": 5
}
