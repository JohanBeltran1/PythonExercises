{
 "cells": [
  {
   "cell_type": "markdown",
   "metadata": {},
   "source": [
    "# 6) Funciones\n",
    "\n",
    "## ¿Qué son?\n",
    "Bloques reutilizables de código que **reciben parámetros** y **devuelven resultados**.\n",
    "\n",
    "## ¿Para qué se usan?\n",
    "Para **encapsular lógica**, evitar duplicación y mejorar claridad y pruebas.\n",
    "\n",
    "## Ideas clave\n",
    "- `def nombre(param...) -> retorno`\n",
    "- Valores por defecto, *docstrings*, pruebas simples\n",
    "- Ámbito: variables locales vs globales\n"
   ]
  },
  {
   "cell_type": "code",
   "execution_count": null,
   "metadata": {},
   "outputs": [],
   "source": [
    "def saluda(nombre: str) -> str:\n",
    "    \"\"\"Devuelve un saludo personalizado.\"\"\"\n",
    "    return f\"Hola, {nombre}!\"\n",
    "\n",
    "def potencia(base: float, exp: int = 2) -> float:\n",
    "    return base ** exp\n",
    "\n",
    "print(saluda(\"Ada\"))\n",
    "print(\"Potencia:\", potencia(3), potencia(2, 5))\n"
   ]
  },
  {
   "cell_type": "markdown",
   "metadata": {},
   "source": [
    "### Ejercicios\n",
    "- E1: `suma(a,b)` y `es_par(n)`.\n",
    "- E2: `promedio(numeros: list[float]) -> float`.\n",
    "- E3: `normaliza_nombre(s)`: quita espacios y capitaliza.\n",
    "\n",
    "### Reto extra\n",
    "`filtra_mayores(lista, umbral)` y `transforma(lista, f)` (simulan `filter`/`map`).\n"
   ]
  },
  {
   "cell_type": "code",
   "execution_count": 4,
   "id": "56cc0758",
   "metadata": {},
   "outputs": [
    {
     "name": "stdout",
     "output_type": "stream",
     "text": [
      "La suma es: 8\n",
      "¿Es par? True\n",
      "El promedio es: 7.75\n",
      "Juan Perez\n",
      "[40, 50]\n"
     ]
    }
   ],
   "source": [
    "#ejercicio 1\n",
    "def suma(a, b):\n",
    "    return a + b\n",
    "def es_par(n):\n",
    "    return n % 2 == 0\n",
    "\n",
    "resultado = suma(3, 5)\n",
    "print(\"La suma es:\", resultado)\n",
    "print(\"¿Es par?\", es_par(resultado))\n",
    "\n",
    "#ejercicio 2\n",
    "def promedio (numero:list[float]) -> float:\n",
    "    if not numero:\n",
    "        raise ValueError(\"La lista no puede estar vacía\")\n",
    "    return sum(numero) / len(numero)\n",
    "\n",
    "notas = [7.5, 8.0, 9.0, 6.5]\n",
    "media = promedio(notas)\n",
    "print(\"El promedio es:\", media)\n",
    "\n",
    "#ejercicio 3\n",
    "def normaliza_nombre(nombre: str) -> str:\n",
    "    return nombre.strip().title()\n",
    "\n",
    "nombre_crudo = \"   juan perez   \"\n",
    "nombre_limpio = normaliza_nombre(nombre_crudo)\n",
    "print(nombre_limpio)\n",
    "\n",
    "#extra\n",
    "def filtra_mayores(lista, umbral):\n",
    "    return [x for x in lista if x > umbral]\n",
    "\n",
    "def transforma(lista, funcion):\n",
    "    return [funcion(x) for x in lista]\n",
    "\n",
    "datos = [5, 10, 15, 20, 25]\n",
    "filtrados = filtra_mayores(datos, 15)\n",
    "transformados = transforma(filtrados, lambda x: x * 2)\n",
    "\n",
    "print (transformados)"
   ]
  },
  {
   "cell_type": "code",
   "execution_count": null,
   "metadata": {},
   "outputs": [],
   "source": [
    "# Pista para promedio\n",
    "def promedio(nums):\n",
    "    return sum(nums) / len(nums) if nums else 0.0\n",
    "\n",
    "print(\"Promedio de [1,2,3]:\", promedio([1,2,3]))\n"
   ]
  }
 ],
 "metadata": {
  "kernelspec": {
   "display_name": ".venv",
   "language": "python",
   "name": "python3"
  },
  "language_info": {
   "codemirror_mode": {
    "name": "ipython",
    "version": 3
   },
   "file_extension": ".py",
   "mimetype": "text/x-python",
   "name": "python",
   "nbconvert_exporter": "python",
   "pygments_lexer": "ipython3",
   "version": "3.13.7"
  }
 },
 "nbformat": 4,
 "nbformat_minor": 5
}
