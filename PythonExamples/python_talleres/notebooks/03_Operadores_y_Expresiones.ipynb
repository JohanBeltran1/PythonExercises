{
 "cells": [
  {
   "cell_type": "markdown",
   "metadata": {},
   "source": [
    "# 3) Operadores y expresiones\n",
    "\n",
    "## ¿Qué son?\n",
    "Los **operadores** combinan valores para producir un resultado (*expresiones*).\n",
    "\n",
    "## ¿Para qué se usan?\n",
    "Para **calcular, comparar y tomar decisiones**. Son la base de toda lógica.\n",
    "\n",
    "## Familias principales\n",
    "- Aritméticos: `+ - * / // % **`\n",
    "- Comparación: `== != > < >= <=`\n",
    "- Lógicos: `and or not`\n",
    "- Precedencia: paréntesis > potencias > multiplicación/división > suma/resta\n"
   ]
  },
  {
   "cell_type": "code",
   "execution_count": null,
   "metadata": {},
   "outputs": [],
   "source": [
    "a, b = 10, 3\n",
    "print(\"Aritméticos:\", a + b, a - b, a * b, a / b, a // b, a % b, a ** b)\n",
    "print(\"Comparación:\", a == b, a != b, a > b, a <= b)\n",
    "x, y = True, False\n",
    "print(\"Lógicos:\", x and y, x or y, not x)\n"
   ]
  },
  {
   "cell_type": "markdown",
   "metadata": {},
   "source": [
    "### Ejercicios\n",
    "- E1: Área de un círculo con `pi=3.14159` y radio fijo.\n",
    "- E2: Verifica si un número es múltiplo de 3 y 5.\n",
    "- E3: Evalúa si una edad está en el rango 18–65.\n",
    "\n",
    "### Reto extra\n",
    "Calculadora por consola que reciba `a`, `b` y una operación, y muestre el resultado.\n"
   ]
  },
  {
   "cell_type": "code",
   "execution_count": 1,
   "id": "83b67b57",
   "metadata": {},
   "outputs": [
    {
     "name": "stdout",
     "output_type": "stream",
     "text": [
      "Área del círculo: 78.53975\n",
      "15 es múltiplo de 3 y 5\n",
      "20 está en la edad permitida\n"
     ]
    }
   ],
   "source": [
    "#ejercicio 1\n",
    "pi = 3.14159\n",
    "radio = 5\n",
    "area = pi * radio ** 2\n",
    "print(\"Área del círculo:\", area)\n",
    "\n",
    "#ejercicio 2\n",
    "numero = 15\n",
    "\n",
    "if numero % 3 == 0 and numero % 5 == 0:\n",
    "    print(f\"{numero} es múltiplo de 3 y 5\")\n",
    "else:\n",
    "    print(f\"{numero} no es múltiplo de 3 y 5\")\n",
    "\n",
    "#ejercicio 3\n",
    "edad = 20\n",
    "if 18 <= edad <= 65:\n",
    "    print(f\"{edad} está en la edad permitida\")\n",
    "else:\n",
    "    print(f\"{edad} no está en la edad permitida\")"
   ]
  },
  {
   "cell_type": "code",
   "execution_count": null,
   "metadata": {},
   "outputs": [],
   "source": [
    "# Pista: calculadora básica\n",
    "a, b, op = 12, 5, \"*\"\n",
    "if op == \"+\":\n",
    "    print(a + b)\n",
    "elif op == \"-\":\n",
    "    print(a - b)\n",
    "elif op == \"*\":\n",
    "    print(a * b)\n",
    "elif op == \"/\":\n",
    "    print(a / b)\n",
    "elif op == \"//\":\n",
    "    print(a // b)\n",
    "elif op == \"%\":\n",
    "    print(a % b)\n",
    "elif op == \"**\":\n",
    "    print(a ** b)\n",
    "else:\n",
    "    print(\"Operación no reconocida\")\n"
   ]
  }
 ],
 "metadata": {
  "kernelspec": {
   "display_name": ".venv",
   "language": "python",
   "name": "python3"
  },
  "language_info": {
   "codemirror_mode": {
    "name": "ipython",
    "version": 3
   },
   "file_extension": ".py",
   "mimetype": "text/x-python",
   "name": "python",
   "nbconvert_exporter": "python",
   "pygments_lexer": "ipython3",
   "version": "3.13.7"
  }
 },
 "nbformat": 4,
 "nbformat_minor": 5
}
