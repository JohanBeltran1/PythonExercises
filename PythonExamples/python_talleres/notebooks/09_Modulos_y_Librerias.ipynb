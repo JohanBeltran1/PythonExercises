{
 "cells": [
  {
   "cell_type": "markdown",
   "metadata": {},
   "source": [
    "# 9) Módulos y librerías estándar\n",
    "\n",
    "## ¿Qué son?\n",
    "Archivos y paquetes con **funciones reutilizables**. La **librería estándar** ofrece utilidades listas para usar.\n",
    "\n",
    "## ¿Para qué se usan?\n",
    "Para **no reinventar la rueda**: matemáticas, fechas, aleatoriedad, sistemas de archivos, etc.\n",
    "\n",
    "## Importar\n",
    "- `import modulo`\n",
    "- `from modulo import funcion`\n",
    "- Alias: `import modulo as m`\n"
   ]
  },
  {
   "cell_type": "code",
   "execution_count": null,
   "metadata": {},
   "outputs": [],
   "source": [
    "import math\n",
    "from datetime import datetime\n",
    "import random as rnd\n",
    "\n",
    "print(\"π ~\", math.pi, \"| sqrt(49) =\", math.sqrt(49))\n",
    "print(\"Ahora:\", datetime.now().strftime(\"%Y-%m-%d %H:%M\"))\n",
    "print(\"Aleatorio 1..10:\", rnd.randint(1,10))\n"
   ]
  },
  {
   "cell_type": "markdown",
   "metadata": {},
   "source": [
    "### Ejercicios\n",
    "- E1: Simula 100 lanzamientos de dado y cuenta frecuencias (dict).\n",
    "- E2: Calcula hipotenusa con `math.hypot(a,b)`.\n",
    "- E3: ¿Cuántos días faltan para fin de año?\n",
    "\n",
    "### Reto extra\n",
    "Juego **Piedra, Papel o Tijera** contra la máquina (mejor de 3).\n"
   ]
  },
  {
   "cell_type": "code",
   "execution_count": 2,
   "id": "cad220d3",
   "metadata": {},
   "outputs": [
    {
     "name": "stdout",
     "output_type": "stream",
     "text": [
      "Frecuencias de cada cara del dado en 100 lanzamientos:\n",
      "Cara 1: 14 veces\n",
      "Cara 2: 22 veces\n",
      "Cara 3: 17 veces\n",
      "Cara 4: 15 veces\n",
      "Cara 5: 22 veces\n",
      "Cara 6: 10 veces\n",
      "La longitud de la hipotenusa es: 8.54\n",
      "Faltan 113 días para fin de año.\n",
      "La computadora eligió: tijeras\n",
      "Ganaste\n"
     ]
    }
   ],
   "source": [
    "#ejercicio 1\n",
    "import random\n",
    "def simular_lanzamiento_dado(n=100):\n",
    "    frecuencias = {cara: 0 for cara in range(1, 7)}\n",
    "    for _ in range(n):\n",
    "        lanzamiento = random.randint(1, 6)\n",
    "        frecuencias[lanzamiento] += 1\n",
    "    return frecuencias\n",
    "\n",
    "resultados = simular_lanzamiento_dado(100)\n",
    "print(\"Frecuencias de cada cara del dado en 100 lanzamientos:\")\n",
    "for cara, frecuencia in resultados.items():\n",
    "    print(f\"Cara {cara}: {frecuencia} veces\")\n",
    "\n",
    "#ejercicio 2\n",
    "import math\n",
    "def calcular_hipotenusa(a, b):\n",
    "    return math.hypot(a, b)\n",
    "\n",
    "try:\n",
    "    a = float(input(\"Ingrese la longitud del cateto a: \"))\n",
    "    b = float(input(\"Ingrese la longitud del cateto b: \"))\n",
    "    hipotenusa = calcular_hipotenusa(a, b)\n",
    "    print(f\"La longitud de la hipotenusa es: {hipotenusa:.2f}\")\n",
    "except ValueError:\n",
    "    print(\"Por favor, ingrese valores numéricos válidos para los catetos.\")\n",
    "\n",
    "#ejercicio 3\n",
    "from datetime import datetime\n",
    "\n",
    "def dias_para_fin_de_año():\n",
    "    hoy = datetime.now()\n",
    "    fin_de_año = datetime(hoy.year, 12, 31)\n",
    "    diferencia = fin_de_año - hoy\n",
    "    return diferencia.days\n",
    "\n",
    "dias_restantes = dias_para_fin_de_año()\n",
    "print(f\"Faltan {dias_restantes} días para fin de año.\")\n",
    "\n",
    "#extra\n",
    "import random\n",
    "def obtener_eleccion_aleatoria():\n",
    "    opciones = ['piedra', 'papel', 'tijeras']\n",
    "    return random.choice(opciones)\n",
    "def determinar_ganador(jugador, computadora):\n",
    "    if jugador == computadora:\n",
    "        return \"Empate\"\n",
    "    elif (jugador == 'piedra' and computadora == 'tijeras') or \\\n",
    "         (jugador == 'papel' and computadora == 'piedra') or \\\n",
    "         (jugador == 'tijeras' and computadora == 'papel'):\n",
    "        return \"Ganaste\"\n",
    "    else:\n",
    "        return \"Perdiste\"\n",
    "    \n",
    "jugador = input(\"Elige piedra, papel o tijeras: \").lower()\n",
    "if jugador not in ['piedra', 'papel', 'tijeras']:\n",
    "    print(\"Elección inválida. Por favor, elige piedra, papel o tijeras.\")\n",
    "else:\n",
    "    computadora = obtener_eleccion_aleatoria()\n",
    "    print(f\"La computadora eligió: {computadora}\")\n",
    "    resultado = determinar_ganador(jugador, computadora)\n",
    "    print(resultado)"
   ]
  }
 ],
 "metadata": {
  "kernelspec": {
   "display_name": ".venv",
   "language": "python",
   "name": "python3"
  },
  "language_info": {
   "codemirror_mode": {
    "name": "ipython",
    "version": 3
   },
   "file_extension": ".py",
   "mimetype": "text/x-python",
   "name": "python",
   "nbconvert_exporter": "python",
   "pygments_lexer": "ipython3",
   "version": "3.13.7"
  }
 },
 "nbformat": 4,
 "nbformat_minor": 5
}
